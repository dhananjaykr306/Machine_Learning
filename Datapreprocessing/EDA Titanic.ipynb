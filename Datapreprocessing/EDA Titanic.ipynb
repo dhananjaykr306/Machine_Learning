{
 "cells": [
  {
   "cell_type": "code",
   "execution_count": 1,
   "id": "9879296d-971d-482d-90f5-bbc8d51df845",
   "metadata": {},
   "outputs": [],
   "source": [
    "import pandas as pd\n",
    "import numpy as np\n",
    "import matplotlib.pyplot as plt\n",
    "import seaborn as sns"
   ]
  },
  {
   "cell_type": "code",
   "execution_count": 2,
   "id": "6ab3f713-8482-48c1-a2c6-b7ed76eb00e1",
   "metadata": {},
   "outputs": [],
   "source": [
    "train = pd.read_csv('train.csv')\n",
    "test = pd.read_csv('test.csv')"
   ]
  },
  {
   "cell_type": "code",
   "execution_count": 3,
   "id": "254c0a38-dc89-4533-bc41-09840c906738",
   "metadata": {},
   "outputs": [
    {
     "data": {
      "text/html": [
       "<div>\n",
       "<style scoped>\n",
       "    .dataframe tbody tr th:only-of-type {\n",
       "        vertical-align: middle;\n",
       "    }\n",
       "\n",
       "    .dataframe tbody tr th {\n",
       "        vertical-align: top;\n",
       "    }\n",
       "\n",
       "    .dataframe thead th {\n",
       "        text-align: right;\n",
       "    }\n",
       "</style>\n",
       "<table border=\"1\" class=\"dataframe\">\n",
       "  <thead>\n",
       "    <tr style=\"text-align: right;\">\n",
       "      <th></th>\n",
       "      <th>PassengerId</th>\n",
       "      <th>Survived</th>\n",
       "      <th>Pclass</th>\n",
       "      <th>Name</th>\n",
       "      <th>Sex</th>\n",
       "      <th>Age</th>\n",
       "      <th>SibSp</th>\n",
       "      <th>Parch</th>\n",
       "      <th>Ticket</th>\n",
       "      <th>Fare</th>\n",
       "      <th>Cabin</th>\n",
       "      <th>Embarked</th>\n",
       "    </tr>\n",
       "  </thead>\n",
       "  <tbody>\n",
       "    <tr>\n",
       "      <th>0</th>\n",
       "      <td>1</td>\n",
       "      <td>0</td>\n",
       "      <td>3</td>\n",
       "      <td>Braund, Mr. Owen Harris</td>\n",
       "      <td>male</td>\n",
       "      <td>22.0</td>\n",
       "      <td>1</td>\n",
       "      <td>0</td>\n",
       "      <td>A/5 21171</td>\n",
       "      <td>7.2500</td>\n",
       "      <td>NaN</td>\n",
       "      <td>S</td>\n",
       "    </tr>\n",
       "    <tr>\n",
       "      <th>1</th>\n",
       "      <td>2</td>\n",
       "      <td>1</td>\n",
       "      <td>1</td>\n",
       "      <td>Cumings, Mrs. John Bradley (Florence Briggs Th...</td>\n",
       "      <td>female</td>\n",
       "      <td>38.0</td>\n",
       "      <td>1</td>\n",
       "      <td>0</td>\n",
       "      <td>PC 17599</td>\n",
       "      <td>71.2833</td>\n",
       "      <td>C85</td>\n",
       "      <td>C</td>\n",
       "    </tr>\n",
       "    <tr>\n",
       "      <th>2</th>\n",
       "      <td>3</td>\n",
       "      <td>1</td>\n",
       "      <td>3</td>\n",
       "      <td>Heikkinen, Miss. Laina</td>\n",
       "      <td>female</td>\n",
       "      <td>26.0</td>\n",
       "      <td>0</td>\n",
       "      <td>0</td>\n",
       "      <td>STON/O2. 3101282</td>\n",
       "      <td>7.9250</td>\n",
       "      <td>NaN</td>\n",
       "      <td>S</td>\n",
       "    </tr>\n",
       "    <tr>\n",
       "      <th>3</th>\n",
       "      <td>4</td>\n",
       "      <td>1</td>\n",
       "      <td>1</td>\n",
       "      <td>Futrelle, Mrs. Jacques Heath (Lily May Peel)</td>\n",
       "      <td>female</td>\n",
       "      <td>35.0</td>\n",
       "      <td>1</td>\n",
       "      <td>0</td>\n",
       "      <td>113803</td>\n",
       "      <td>53.1000</td>\n",
       "      <td>C123</td>\n",
       "      <td>S</td>\n",
       "    </tr>\n",
       "    <tr>\n",
       "      <th>4</th>\n",
       "      <td>5</td>\n",
       "      <td>0</td>\n",
       "      <td>3</td>\n",
       "      <td>Allen, Mr. William Henry</td>\n",
       "      <td>male</td>\n",
       "      <td>35.0</td>\n",
       "      <td>0</td>\n",
       "      <td>0</td>\n",
       "      <td>373450</td>\n",
       "      <td>8.0500</td>\n",
       "      <td>NaN</td>\n",
       "      <td>S</td>\n",
       "    </tr>\n",
       "  </tbody>\n",
       "</table>\n",
       "</div>"
      ],
      "text/plain": [
       "   PassengerId  Survived  Pclass  \\\n",
       "0            1         0       3   \n",
       "1            2         1       1   \n",
       "2            3         1       3   \n",
       "3            4         1       1   \n",
       "4            5         0       3   \n",
       "\n",
       "                                                Name     Sex   Age  SibSp  \\\n",
       "0                            Braund, Mr. Owen Harris    male  22.0      1   \n",
       "1  Cumings, Mrs. John Bradley (Florence Briggs Th...  female  38.0      1   \n",
       "2                             Heikkinen, Miss. Laina  female  26.0      0   \n",
       "3       Futrelle, Mrs. Jacques Heath (Lily May Peel)  female  35.0      1   \n",
       "4                           Allen, Mr. William Henry    male  35.0      0   \n",
       "\n",
       "   Parch            Ticket     Fare Cabin Embarked  \n",
       "0      0         A/5 21171   7.2500   NaN        S  \n",
       "1      0          PC 17599  71.2833   C85        C  \n",
       "2      0  STON/O2. 3101282   7.9250   NaN        S  \n",
       "3      0            113803  53.1000  C123        S  \n",
       "4      0            373450   8.0500   NaN        S  "
      ]
     },
     "execution_count": 3,
     "metadata": {},
     "output_type": "execute_result"
    }
   ],
   "source": [
    "train.head()"
   ]
  },
  {
   "cell_type": "code",
   "execution_count": 4,
   "id": "234be30b-25a0-4267-bd77-b75410c89a8c",
   "metadata": {},
   "outputs": [
    {
     "data": {
      "text/plain": [
       "(891, 12)"
      ]
     },
     "execution_count": 4,
     "metadata": {},
     "output_type": "execute_result"
    }
   ],
   "source": [
    "train.shape"
   ]
  },
  {
   "cell_type": "code",
   "execution_count": 5,
   "id": "a60b5259-8331-41ec-b433-951dbb90df0c",
   "metadata": {},
   "outputs": [
    {
     "data": {
      "text/plain": [
       "(418, 11)"
      ]
     },
     "execution_count": 5,
     "metadata": {},
     "output_type": "execute_result"
    }
   ],
   "source": [
    "test.shape"
   ]
  },
  {
   "cell_type": "code",
   "execution_count": 6,
   "id": "8bd3b8de-c68d-4a90-bfa2-21399e061799",
   "metadata": {},
   "outputs": [
    {
     "data": {
      "text/plain": [
       "PassengerId      0\n",
       "Survived         0\n",
       "Pclass           0\n",
       "Name             0\n",
       "Sex              0\n",
       "Age            177\n",
       "SibSp            0\n",
       "Parch            0\n",
       "Ticket           0\n",
       "Fare             0\n",
       "Cabin          687\n",
       "Embarked         2\n",
       "dtype: int64"
      ]
     },
     "execution_count": 6,
     "metadata": {},
     "output_type": "execute_result"
    }
   ],
   "source": [
    "train.isnull().sum()"
   ]
  },
  {
   "cell_type": "code",
   "execution_count": 7,
   "id": "09b740ae-e632-4f7d-9812-0041667ae524",
   "metadata": {},
   "outputs": [
    {
     "data": {
      "text/plain": [
       "PassengerId      0\n",
       "Pclass           0\n",
       "Name             0\n",
       "Sex              0\n",
       "Age             86\n",
       "SibSp            0\n",
       "Parch            0\n",
       "Ticket           0\n",
       "Fare             1\n",
       "Cabin          327\n",
       "Embarked         0\n",
       "dtype: int64"
      ]
     },
     "execution_count": 7,
     "metadata": {},
     "output_type": "execute_result"
    }
   ],
   "source": [
    "test.isnull().sum()"
   ]
  },
  {
   "cell_type": "code",
   "execution_count": 8,
   "id": "bcbb6c81-e9b4-4426-a1bc-abbeaa1866e3",
   "metadata": {},
   "outputs": [
    {
     "name": "stdout",
     "output_type": "stream",
     "text": [
      "Percentage of Women Survived: 74.20382165605095\n",
      "Percentage of men Survived: 18.890814558058924\n"
     ]
    },
    {
     "data": {
      "image/png": "[encoded data removed]",
      "text/plain": [
       "<Figure size 640x480 with 1 Axes>"
      ]
     },
     "metadata": {},
     "output_type": "display_data"
    }
   ],
   "source": [
    "sns.barplot(data=train,x='Sex',y='Survived',hue='Sex')\n",
    "percentage_women_survived = train['Survived'][train['Sex'] == 'female'].value_counts(normalize=True).get(1, 0) * 100\n",
    "print('Percentage of Women Survived:', percentage_women_survived)\n",
    "percentage_men_survived = train['Survived'][train['Sex'] == 'male'].value_counts(normalize=True).get(1, 0) * 100\n",
    "print('Percentage of men Survived:', percentage_men_survived)"
   ]
  },
  {
   "cell_type": "code",
   "execution_count": 9,
   "id": "f797285e-ee48-4963-8c1a-c2b4a5272240",
   "metadata": {},
   "outputs": [
    {
     "name": "stdout",
     "output_type": "stream",
     "text": [
      "Percentage of men Survived: 18.890814558058924\n"
     ]
    }
   ],
   "source": [
    "percentage_men_survived = train.groupby('Sex')['Survived'].mean()['male'] * 100\n",
    "print('Percentage of men Survived:', percentage_men_survived)"
   ]
  },
  {
   "cell_type": "code",
   "execution_count": 10,
   "id": "10af9571-11d3-4f08-b76d-f17442f461d8",
   "metadata": {},
   "outputs": [],
   "source": [
    "men_survived_percentage = train[train['Sex']=='male']['Survived'].sum()/len(train[train['Sex']=='male'])*100"
   ]
  },
  {
   "cell_type": "code",
   "execution_count": 11,
   "id": "cd77ba89-b43d-4e73-a3f6-bb5c2d701d1e",
   "metadata": {},
   "outputs": [
    {
     "data": {
      "text/plain": [
       "np.float64(18.890814558058924)"
      ]
     },
     "execution_count": 11,
     "metadata": {},
     "output_type": "execute_result"
    }
   ],
   "source": [
    "men_survived_percentage"
   ]
  },
  {
   "cell_type": "code",
   "execution_count": 12,
   "id": "ef7ffd3e-64ce-4e8b-adb7-90c680dd0048",
   "metadata": {},
   "outputs": [],
   "source": [
    "femal_survived_percentage= train[train['Sex']=='female']['Survived'].sum()/len(train[train['Sex']=='female'])*100"
   ]
  },
  {
   "cell_type": "code",
   "execution_count": 13,
   "id": "c2a0ff9f-a5ff-441c-97ed-ab3559683f19",
   "metadata": {},
   "outputs": [
    {
     "data": {
      "text/plain": [
       "np.float64(74.20382165605095)"
      ]
     },
     "execution_count": 13,
     "metadata": {},
     "output_type": "execute_result"
    }
   ],
   "source": [
    "femal_survived_percentage"
   ]
  },
  {
   "cell_type": "markdown",
   "id": "609a2deb-cfb2-4a0b-98f6-d7d82ac55124",
   "metadata": {},
   "source": [
    "# PClass"
   ]
  },
  {
   "cell_type": "code",
   "execution_count": 14,
   "id": "9f4d1e33-0e89-4640-856e-6e5cd4d36407",
   "metadata": {},
   "outputs": [
    {
     "data": {
      "text/plain": [
       "<Axes: xlabel='Pclass', ylabel='Survived'>"
      ]
     },
     "execution_count": 14,
     "metadata": {},
     "output_type": "execute_result"
    },
    {
     "data": {
      "image/png": "[encoded data removed]",
      "text/plain": [
       "<Figure size 640x480 with 1 Axes>"
      ]
     },
     "metadata": {},
     "output_type": "display_data"
    }
   ],
   "source": [
    "sns.barplot(data=train,x='Pclass',y='Survived',hue='Pclass')"
   ]
  },
  {
   "cell_type": "code",
   "execution_count": 15,
   "id": "e8b2d3ab-95f7-4fb7-80dc-22e269664037",
   "metadata": {},
   "outputs": [
    {
     "data": {
      "text/plain": [
       "np.float64(62.96296296296296)"
      ]
     },
     "execution_count": 15,
     "metadata": {},
     "output_type": "execute_result"
    }
   ],
   "source": [
    "percentage_of_class1 = train[train['Pclass']==1]['Survived'].sum()/len(train[train['Pclass']==1])*100\n",
    "percentage_of_class1"
   ]
  },
  {
   "cell_type": "code",
   "execution_count": 16,
   "id": "86d4636a-2cda-466f-a67f-d7e4372608db",
   "metadata": {},
   "outputs": [
    {
     "data": {
      "text/plain": [
       "np.float64(47.28260869565217)"
      ]
     },
     "execution_count": 16,
     "metadata": {},
     "output_type": "execute_result"
    }
   ],
   "source": [
    "percentage_of_class2 = train[train['Pclass']==2]['Survived'].sum()/len(train[train['Pclass']==2])*100\n",
    "percentage_of_class2"
   ]
  },
  {
   "cell_type": "code",
   "execution_count": 17,
   "id": "0ef8acfb-7ad5-4992-b4e2-b64d174e6871",
   "metadata": {},
   "outputs": [
    {
     "data": {
      "text/plain": [
       "np.float64(24.236252545824847)"
      ]
     },
     "execution_count": 17,
     "metadata": {},
     "output_type": "execute_result"
    }
   ],
   "source": [
    "percentage_of_class3 = train[train['Pclass']==3]['Survived'].sum()/len(train[train['Pclass']==3])*100\n",
    "percentage_of_class3"
   ]
  },
  {
   "cell_type": "code",
   "execution_count": 18,
   "id": "3f36aff9-240c-4e6e-97f3-a1e416928db1",
   "metadata": {},
   "outputs": [
    {
     "name": "stderr",
     "output_type": "stream",
     "text": [
      "C:\\Users\\dhana\\AppData\\Local\\Temp\\ipykernel_10044\\1605338790.py:1: FutureWarning: A value is trying to be set on a copy of a DataFrame or Series through chained assignment using an inplace method.\n",
      "The behavior will change in pandas 3.0. This inplace method will never work because the intermediate object on which we are setting values always behaves as a copy.\n",
      "\n",
      "For example, when doing 'df[col].method(value, inplace=True)', try using 'df.method({col: value}, inplace=True)' or df[col] = df[col].method(value) instead, to perform the operation inplace on the original object.\n",
      "\n",
      "\n",
      "  train.Age.fillna(-0.5,inplace=True)\n"
     ]
    }
   ],
   "source": [
    "train.Age.fillna(-0.5,inplace=True)"
   ]
  },
  {
   "cell_type": "code",
   "execution_count": 19,
   "id": "db3b8ed0-4eb8-493c-aae6-79108b476b9b",
   "metadata": {},
   "outputs": [],
   "source": [
    "test.fillna({'Age':0.5},inplace=True)"
   ]
  },
  {
   "cell_type": "code",
   "execution_count": 20,
   "id": "417cd9e4-81c0-4600-b96a-2726d81d8985",
   "metadata": {},
   "outputs": [],
   "source": [
    "bins= [-1,0,5,12,18,24,35,90,np.inf]\n",
    "labels= ['Unkonown','Baby','Child','Teenager','Student','Young Adult','Adult','Senior']"
   ]
  },
  {
   "cell_type": "code",
   "execution_count": 21,
   "id": "1e62dbee-b9d1-47ba-b8c4-9d66f8f67a58",
   "metadata": {},
   "outputs": [],
   "source": [
    "train['AgeGroup'] = pd.cut(train['Age'],bins,labels=labels)\n",
    "test['AgeGroup'] = pd.cut(test['Age'],bins,labels=labels)"
   ]
  },
  {
   "cell_type": "code",
   "execution_count": 22,
   "id": "96ad188c-470c-418c-8b8f-018059fca526",
   "metadata": {},
   "outputs": [
    {
     "data": {
      "image/png": "[encoded data removed]",
      "text/plain": [
       "<Figure size 640x480 with 1 Axes>"
      ]
     },
     "metadata": {},
     "output_type": "display_data"
    }
   ],
   "source": [
    "sns.barplot(data=train,x='AgeGroup',y='Survived',hue='AgeGroup')\n",
    "plt.show()"
   ]
  },
  {
   "cell_type": "code",
   "execution_count": 23,
   "id": "93e16f28-d55c-4d8d-addd-5ad936ddd8d2",
   "metadata": {},
   "outputs": [
    {
     "data": {
      "text/plain": [
       "Index(['PassengerId', 'Survived', 'Pclass', 'Name', 'Sex', 'Age', 'SibSp',\n",
       "       'Parch', 'Ticket', 'Fare', 'Cabin', 'Embarked', 'AgeGroup'],\n",
       "      dtype='object')"
      ]
     },
     "execution_count": 23,
     "metadata": {},
     "output_type": "execute_result"
    }
   ],
   "source": [
    "train.columns"
   ]
  },
  {
   "cell_type": "code",
   "execution_count": 24,
   "id": "73d81594-eb13-439f-84c8-493c242c2810",
   "metadata": {},
   "outputs": [],
   "source": [
    "# cabin, fare,Ticket drop column\n",
    "train.drop(columns={'Cabin','Fare','Ticket'},inplace=True)\n",
    "test.drop(columns={'Cabin','Fare','Ticket'},inplace=True)"
   ]
  },
  {
   "cell_type": "markdown",
   "id": "032620e1-1004-4284-8f61-d321ff8cc6e9",
   "metadata": {},
   "source": [
    "#### Dealing with missing values"
   ]
  },
  {
   "cell_type": "code",
   "execution_count": 25,
   "id": "779d7b30-50e7-42a6-bb66-371afd8be6fc",
   "metadata": {},
   "outputs": [
    {
     "data": {
      "text/plain": [
       "array(['S', 'C', 'Q', nan], dtype=object)"
      ]
     },
     "execution_count": 25,
     "metadata": {},
     "output_type": "execute_result"
    }
   ],
   "source": [
    "train['Embarked'].unique()"
   ]
  },
  {
   "cell_type": "code",
   "execution_count": 26,
   "id": "0164b4b6-c3ad-4961-8c60-e5ec3298af34",
   "metadata": {},
   "outputs": [
    {
     "name": "stdout",
     "output_type": "stream",
     "text": [
      "Number of people embarking in Southampton (S) :  644\n",
      "Number of people embarking in Cherburg (C) :  168\n",
      "Number of people embarking in Queenstown (Q) :  77\n"
     ]
    }
   ],
   "source": [
    "Southampton = train[train['Embarked']=='S'].shape[0]\n",
    "print(\"Number of people embarking in Southampton (S) : \",Southampton)\n",
    "Cherburg = train[train['Embarked']=='C'].shape[0]\n",
    "print(\"Number of people embarking in Cherburg (C) : \",Cherburg)\n",
    "Queeenstown = train[train['Embarked']=='Q'].shape[0]\n",
    "print(\"Number of people embarking in Queenstown (Q) : \",Queeenstown)"
   ]
  },
  {
   "cell_type": "code",
   "execution_count": 27,
   "id": "c1d8f614-ac61-4a48-b53e-4000dc0766f2",
   "metadata": {},
   "outputs": [
    {
     "data": {
      "text/plain": [
       "PassengerId    0\n",
       "Survived       0\n",
       "Pclass         0\n",
       "Name           0\n",
       "Sex            0\n",
       "Age            0\n",
       "SibSp          0\n",
       "Parch          0\n",
       "Embarked       2\n",
       "AgeGroup       0\n",
       "dtype: int64"
      ]
     },
     "execution_count": 27,
     "metadata": {},
     "output_type": "execute_result"
    }
   ],
   "source": [
    "train.isna().sum()"
   ]
  },
  {
   "cell_type": "code",
   "execution_count": 28,
   "id": "6469c04d",
   "metadata": {},
   "outputs": [
    {
     "data": {
      "text/plain": [
       "PassengerId    0\n",
       "Survived       0\n",
       "Pclass         0\n",
       "Name           0\n",
       "Sex            0\n",
       "Age            0\n",
       "SibSp          0\n",
       "Parch          0\n",
       "Embarked       2\n",
       "AgeGroup       0\n",
       "dtype: int64"
      ]
     },
     "execution_count": 28,
     "metadata": {},
     "output_type": "execute_result"
    }
   ],
   "source": [
    "train.isna().sum()"
   ]
  },
  {
   "cell_type": "code",
   "execution_count": 29,
   "id": "5e6625de-c428-4bf5-b31c-21da7e091f27",
   "metadata": {},
   "outputs": [],
   "source": [
    "train.fillna({'Embarked':'S'},inplace=True)"
   ]
  },
  {
   "cell_type": "code",
   "execution_count": 30,
   "id": "dd88de7f-ca9c-4032-bbff-d345692cc6cb",
   "metadata": {},
   "outputs": [
    {
     "data": {
      "text/plain": [
       "PassengerId    0\n",
       "Survived       0\n",
       "Pclass         0\n",
       "Name           0\n",
       "Sex            0\n",
       "Age            0\n",
       "SibSp          0\n",
       "Parch          0\n",
       "Embarked       0\n",
       "AgeGroup       0\n",
       "dtype: int64"
      ]
     },
     "execution_count": 30,
     "metadata": {},
     "output_type": "execute_result"
    }
   ],
   "source": [
    "train.isna().sum()"
   ]
  },
  {
   "cell_type": "code",
   "execution_count": 31,
   "id": "917da84c-ea2f-4a5f-b06d-9e2aeac96d1f",
   "metadata": {},
   "outputs": [
    {
     "ename": "NameError",
     "evalue": "name 'combine' is not defined",
     "output_type": "error",
     "traceback": [
      "\u001b[1;31m---------------------------------------------------------------------------\u001b[0m",
      "\u001b[1;31mNameError\u001b[0m                                 Traceback (most recent call last)",
      "Cell \u001b[1;32mIn[31], line 1\u001b[0m\n\u001b[1;32m----> 1\u001b[0m \u001b[38;5;28mtype\u001b[39m(\u001b[43mcombine\u001b[49m)\n",
      "\u001b[1;31mNameError\u001b[0m: name 'combine' is not defined"
     ]
    }
   ],
   "source": [
    "type(combine)"
   ]
  },
  {
   "cell_type": "code",
   "execution_count": null,
   "id": "f6abd822-888a-4d61-8c07-5ef721cd2cc9",
   "metadata": {},
   "outputs": [],
   "source": [
    "train.head()"
   ]
  },
  {
   "cell_type": "code",
   "execution_count": null,
   "id": "0d5382a7-3230-4b15-9160-bd5822440dc3",
   "metadata": {},
   "outputs": [],
   "source": [
    "for dataset in combine:\n",
    "    dataset['Title'] = dataset.Name.str.extract('([A-Za-z]+)\\.',expand=True)\n",
    "pd.crosstab(train['Title'],train['Sex'])"
   ]
  },
  {
   "cell_type": "code",
   "execution_count": null,
   "id": "2a0429ac-5705-4008-9817-93327bcffac1",
   "metadata": {},
   "outputs": [],
   "source": [
    "train"
   ]
  },
  {
   "cell_type": "code",
   "execution_count": null,
   "id": "e1298600-caeb-43df-8c04-45f1ad575a58",
   "metadata": {},
   "outputs": [],
   "source": [
    "for dataset in combine:\n",
    "        dataset['Title'] = dataset['Title'].replace(['Lady','Capt','Col','Don','Dr','Major','Rev','Jonkheer'],'Rare')\n",
    "        dataset['Title'] = dataset['Title'].replace(['Sir','Lady','Countess'],'Royal')\n",
    "        dataset['Title'] = dataset['Title'].replace('Mlle','Miss')\n",
    "        dataset['Title'] = dataset['Title'].replace('Ms','Miss')\n",
    "        dataset['Title'] = dataset['Title'].replace('Mme','Mrs')"
   ]
  },
  {
   "cell_type": "code",
   "execution_count": null,
   "id": "ba3c31b3-fafb-424b-9906-18feb799ec67",
   "metadata": {},
   "outputs": [],
   "source": [
    "train[['Title','Survived']].groupby(['Title'],as_index=False).mean()"
   ]
  },
  {
   "cell_type": "code",
   "execution_count": null,
   "id": "3ae316ae-9deb-4377-a38a-9236a90d519a",
   "metadata": {},
   "outputs": [],
   "source": [
    "list(train[['Title','Survived']].groupby(['Title'],as_index=False).mean()['Title'])"
   ]
  },
  {
   "cell_type": "raw",
   "id": "59ce66b2-4dbd-4b42-9acc-87c1fcf7298c",
   "metadata": {},
   "source": [
    "title_mapping = {'Master':1, 'Miss':2, 'Mr':3, 'Mrs':4, 'Rare':5, 'Royal':6}\n",
    "for dataset in combine:\n",
    "    dataset['Title'] = dataset['Title'].map(title_mapping)\n",
    "    dataset['Title'] = dataset['Title'].fillna(0)\n",
    "train.head()"
   ]
  },
  {
   "cell_type": "code",
   "execution_count": null,
   "id": "d4feb048-0023-4413-8eb6-5fc81f537fb5",
   "metadata": {},
   "outputs": [],
   "source": []
  }
 ],
 "metadata": {
  "kernelspec": {
   "display_name": "Python 3 (ipykernel)",
   "language": "python",
   "name": "python3"
  },
  "language_info": {
   "codemirror_mode": {
    "name": "ipython",
    "version": 3
   },
   "file_extension": ".py",
   "mimetype": "text/x-python",
   "name": "python",
   "nbconvert_exporter": "python",
   "pygments_lexer": "ipython3",
   "version": "3.11.9"
  }
 },
 "nbformat": 4,
 "nbformat_minor": 5
}
